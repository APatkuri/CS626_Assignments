{
 "cells": [
  {
   "cell_type": "code",
   "execution_count": 17,
   "metadata": {},
   "outputs": [
    {
     "name": "stdout",
     "output_type": "stream",
     "text": [
      "['semcor', 'README']\n"
     ]
    },
    {
     "name": "stderr",
     "output_type": "stream",
     "text": [
      "[nltk_data] Downloading package punkt to /home/aditya/nltk_data...\n",
      "[nltk_data]   Package punkt is already up-to-date!\n",
      "[nltk_data] Downloading package stopwords to /home/aditya/nltk_data...\n",
      "[nltk_data]   Package stopwords is already up-to-date!\n",
      "[nltk_data] Downloading package wordnet to /home/aditya/nltk_data...\n",
      "[nltk_data]   Package wordnet is already up-to-date!\n",
      "[nltk_data] Downloading package averaged_perceptron_tagger to\n",
      "[nltk_data]     /home/aditya/nltk_data...\n",
      "[nltk_data]   Package averaged_perceptron_tagger is already up-to-\n",
      "[nltk_data]       date!\n",
      "[nltk_data] Downloading package omw-1.4 to /home/aditya/nltk_data...\n",
      "[nltk_data]   Package omw-1.4 is already up-to-date!\n",
      "[nltk_data] Downloading package semcor to /home/aditya/nltk_data...\n",
      "[nltk_data]   Package semcor is already up-to-date!\n"
     ]
    }
   ],
   "source": [
    "# import nltk\n",
    "# nltk.download('semcor')\n",
    "# from nltk.corpus import semcor\n",
    "import numpy as np\n",
    "import pandas as pd\n",
    "\n",
    "import os\n",
    "print(os.listdir(\"/home/aditya/Documents/CS 626/Assignment 3/SemCor Corpus\"))\n",
    "import nltk\n",
    "nltk.download(['punkt', 'stopwords', 'wordnet', 'averaged_perceptron_tagger', 'omw-1.4', 'semcor'])\n",
    "from nltk.corpus import semcor\n",
    "from nltk.corpus import wordnet as wn\n",
    "from nltk.tokenize import sent_tokenize, word_tokenize,RegexpTokenizer\n",
    "\n",
    "from nltk.corpus import stopwords\n",
    "from nltk.stem import WordNetLemmatizer\n",
    "\n",
    "from gensim.models import Word2Vec"
   ]
  },
  {
   "cell_type": "code",
   "execution_count": 18,
   "metadata": {},
   "outputs": [],
   "source": [
    "text = 'The boy is playing with a ball.'\n",
    "\n",
    "def sentTokenize(str):\n",
    "    sentences = nltk.sent_tokenize(text)\n",
    "    for i in sentences:\n",
    "        print(i)\n",
    "    return sentences"
   ]
  },
  {
   "cell_type": "code",
   "execution_count": 19,
   "metadata": {},
   "outputs": [
    {
     "name": "stdout",
     "output_type": "stream",
     "text": [
      "The boy is playing with a ball.\n"
     ]
    },
    {
     "data": {
      "text/plain": [
       "['The boy is playing with a ball.']"
      ]
     },
     "execution_count": 19,
     "metadata": {},
     "output_type": "execute_result"
    }
   ],
   "source": [
    "sentences = sentTokenize(str)\n",
    "sentences"
   ]
  },
  {
   "cell_type": "code",
   "execution_count": 20,
   "metadata": {},
   "outputs": [],
   "source": [
    "def removepunc(sentences):\n",
    "    tt=\"\"\n",
    "    sentences2=[]\n",
    "    for x in sentences:\n",
    "        tokenizer = RegexpTokenizer('\\w+')\n",
    "        text2=tokenizer.tokenize(x)\n",
    "       \n",
    "        cnt=1\n",
    "        for x2 in text2:\n",
    "            if cnt==1:\n",
    "                tt+=x2\n",
    "                cnt=0\n",
    "            else:\n",
    "                tt+=\" \"+x2    \n",
    "        sentences2.append(tt)\n",
    "        tt=\"\"\n",
    "    return sentences2"
   ]
  },
  {
   "cell_type": "code",
   "execution_count": 21,
   "metadata": {},
   "outputs": [
    {
     "data": {
      "text/plain": [
       "['The boy is playing with a ball']"
      ]
     },
     "execution_count": 21,
     "metadata": {},
     "output_type": "execute_result"
    }
   ],
   "source": [
    "puncRemoved = removepunc(sentences)\n",
    "puncRemoved"
   ]
  },
  {
   "cell_type": "code",
   "execution_count": 22,
   "metadata": {},
   "outputs": [],
   "source": [
    "def removeunnecessarywords(sentences2):\n",
    "    stop_words = set(stopwords.words(\"english\"))\n",
    "    context_tab=[]\n",
    "    for sentence in sentences2:\n",
    "        words = nltk.word_tokenize(sentence)\n",
    "        without_stop_words = [word for word in words if not word in stop_words]\n",
    "        context_tab.append(without_stop_words)\n",
    "    return context_tab "
   ]
  },
  {
   "cell_type": "code",
   "execution_count": 23,
   "metadata": {},
   "outputs": [
    {
     "data": {
      "text/plain": [
       "[['The', 'boy', 'playing', 'ball']]"
      ]
     },
     "execution_count": 23,
     "metadata": {},
     "output_type": "execute_result"
    }
   ],
   "source": [
    "stopWordsRemoved = removeunnecessarywords(puncRemoved)\n",
    "stopWordsRemoved"
   ]
  },
  {
   "cell_type": "code",
   "execution_count": 24,
   "metadata": {},
   "outputs": [],
   "source": [
    "def tagPos(stopWordsRemoved):\n",
    "    pos=[]\n",
    "    for n in stopWordsRemoved:\n",
    "        print(n[1])\n",
    "        pos.append(nltk.pos_tag(n))\n",
    "    return pos    "
   ]
  },
  {
   "cell_type": "code",
   "execution_count": 25,
   "metadata": {},
   "outputs": [
    {
     "name": "stdout",
     "output_type": "stream",
     "text": [
      "boy\n"
     ]
    },
    {
     "data": {
      "text/plain": [
       "[[('The', 'DT'), ('boy', 'NN'), ('playing', 'VBG'), ('ball', 'NN')]]"
      ]
     },
     "execution_count": 25,
     "metadata": {},
     "output_type": "execute_result"
    }
   ],
   "source": [
    "wordPos=tagPos(stopWordsRemoved)\n",
    "wordPos"
   ]
  },
  {
   "cell_type": "code",
   "execution_count": 26,
   "metadata": {},
   "outputs": [],
   "source": [
    "def wordofintrest(pos):\n",
    "    wn_pos = ['NN', 'NNS', 'NNP', 'NNPS']\n",
    "\n",
    "    woi1= []\n",
    "    for x in pos:\n",
    "        arr=[]\n",
    "        for y in x:\n",
    "            if y[1] in wn_pos:\n",
    "                arr.append(y)\n",
    "        woi1.append(arr) \n",
    "    \n",
    "    woi=[]\n",
    "\n",
    "    for i in woi1:\n",
    "        arr2=[]\n",
    "        for j in i:\n",
    "\n",
    "            if j[1]=='NN' or j[1]=='NNS' or j[1]=='NNP' or j[1]=='NNPS':\n",
    "                tup=(j[0],'n')\n",
    "                arr2.append(tup)\n",
    "        woi.append(arr2)       \n",
    "            \n",
    "    return woi"
   ]
  },
  {
   "cell_type": "code",
   "execution_count": 27,
   "metadata": {},
   "outputs": [
    {
     "data": {
      "text/plain": [
       "[[('boy', 'n'), ('ball', 'n')]]"
      ]
     },
     "execution_count": 27,
     "metadata": {},
     "output_type": "execute_result"
    }
   ],
   "source": [
    "woi=wordofintrest(wordPos)\n",
    "woi"
   ]
  },
  {
   "cell_type": "code",
   "execution_count": 28,
   "metadata": {},
   "outputs": [
    {
     "name": "stdout",
     "output_type": "stream",
     "text": [
      "************************************\n",
      "[Synset('male_child.n.01'), Synset('boy.n.02'), Synset('son.n.01'), Synset('boy.n.04')]\n",
      "Synset('male_child.n.01') a youthful male person ['the baby was a boy', 'she made the boy brush his teeth every night', 'most soldiers are only boys in uniform']\n",
      "Synset('boy.n.02') a friendly informal reference to a grown man ['he likes to play golf with the boys']\n",
      "Synset('son.n.01') a male human offspring ['their son became a famous judge', 'his boy is taller than he is']\n",
      "Synset('boy.n.04') (ethnic slur) offensive and disparaging term for Black man ['get out of my way, boy']\n",
      "************************************\n",
      "[Synset('ball.n.01'), Synset('musket_ball.n.01'), Synset('ball.n.03'), Synset('ball.n.04'), Synset('testis.n.01'), Synset('ball.n.06'), Synset('ball.n.07'), Synset('ball.n.08'), Synset('ball.n.09'), Synset('ball.n.10'), Synset('ball.n.11'), Synset('ball.n.12')]\n",
      "Synset('ball.n.01') round object that is hit or thrown or kicked in games ['the ball travelled 90 mph on his serve', 'the mayor threw out the first ball', 'the ball rolled into the corner pocket']\n",
      "Synset('musket_ball.n.01') a solid projectile that is shot by a musket ['they had to carry a ramrod as well as powder and ball']\n",
      "Synset('ball.n.03') an object with a spherical shape ['a ball of fire']\n",
      "Synset('ball.n.04') the people assembled at a lavish formal dance ['the ball was already emptying out before the fire alarm sounded']\n",
      "Synset('testis.n.01') one of the two male reproductive glands that produce spermatozoa and secrete androgens ['she kicked him in the balls and got away']\n",
      "Synset('ball.n.06') a spherical object used as a plaything ['he played with his rubber ball in the bathtub']\n",
      "Synset('ball.n.07') United States comedienne best known as the star of a popular television program (1911-1989) []\n",
      "Synset('ball.n.08') a compact mass ['a ball of mud caught him on the shoulder']\n",
      "Synset('ball.n.09') a lavish dance requiring formal attire []\n",
      "Synset('ball.n.10') a more or less rounded anatomical body or mass ['the ball at the base of the thumb', 'he stood on the balls of his feet']\n",
      "Synset('ball.n.11') the game of baseball []\n",
      "Synset('ball.n.12') a pitch that is not in the strike zone ['he threw nine straight balls before the manager yanked him']\n"
     ]
    }
   ],
   "source": [
    "for i in woi:\n",
    "    for j in i:\n",
    "        w=j[0]\n",
    "        tag=j[1]\n",
    "\n",
    "        synsB=wn.synsets(w,pos=tag)\n",
    "        print(\"************************************\")\n",
    "        print(synsB)\n",
    "\n",
    "\n",
    "        for i in wn.synsets(w,pos=tag):\n",
    "            print(i,i.definition(),i.examples())"
   ]
  },
  {
   "cell_type": "code",
   "execution_count": 29,
   "metadata": {},
   "outputs": [
    {
     "name": "stdout",
     "output_type": "stream",
     "text": [
      "************************************\n",
      "Synset : Synset('male_child.n.01')\n",
      "Hypernym definitions\n",
      "Synset('male.n.02') a person who belongs to the sex that cannot have babies\n",
      "Hyponym definitions\n",
      "Synset('altar_boy.n.01') a boy serving as an acolyte\n",
      "Synset('ball_boy.n.01') a boy who retrieves balls for tennis players\n",
      "Synset('bat_boy.n.01') (baseball) a boy who takes care of bats and other baseball equipment\n",
      "Synset('catamite.n.01') a boy who submits to a sexual relationship with a man\n",
      "Synset('cub.n.02') a male child (a familiar term of address to a boy)\n",
      "Synset('farm_boy.n.01') a boy who has grown up on a farm\n",
      "Synset('fauntleroy.n.01') an excessively polite and well-dressed boy\n",
      "Synset('plowboy.n.01') a boy who leads the animals that draw a plow\n",
      "Synset('schoolboy.n.01') a boy attending school\n",
      "Synset('scout.n.02') a Boy Scout or Girl Scout\n",
      "Synset('shop_boy.n.01') a young male shop assistant\n",
      "Synset : Synset('boy.n.02')\n",
      "Hypernym definitions\n",
      "Synset('man.n.01') an adult person who is male (as opposed to a woman)\n",
      "Hyponym definitions\n",
      "Synset('broth_of_a_boy.n.01') an outstanding person; as if produced by boiling down a savory broth\n",
      "Synset('one_of_the_boys.n.01') a man who has been socially accepted into a group of other men\n",
      "Synset : Synset('son.n.01')\n",
      "Hypernym definitions\n",
      "Synset('male_offspring.n.01') a child who is male\n",
      "Hyponym definitions\n",
      "Synset('junior.n.04') a son who has the same first name as his father\n",
      "Synset('mother's_boy.n.01') a boy excessively attached to his mother; lacking normal masculine interests\n",
      "Synset : Synset('boy.n.04')\n",
      "Hypernym definitions\n",
      "Synset('black_man.n.01') a man who is Black\n",
      "Hyponym definitions\n",
      "************************************\n",
      "Synset : Synset('ball.n.01')\n",
      "Hypernym definitions\n",
      "Synset('game_equipment.n.01') equipment or apparatus used in playing a game\n",
      "Hyponym definitions\n",
      "Synset('baseball.n.02') a ball used in playing baseball\n",
      "Synset('basketball.n.02') an inflated ball used in playing basketball\n",
      "Synset('billiard_ball.n.01') ball used in playing billiards\n",
      "Synset('bocce_ball.n.01') wooden ball that is bowled in the Italian game of bocce\n",
      "Synset('bowl.n.07') a wooden ball (with flattened sides so that it rolls on a curved course) used in the game of lawn bowling\n",
      "Synset('bowling_ball.n.01') a large ball with finger holes used in the sport of bowling\n",
      "Synset('cricket_ball.n.01') the ball used in playing cricket\n",
      "Synset('croquet_ball.n.01') a wooden ball used in playing croquet\n",
      "Synset('field_hockey_ball.n.01') ball used in playing field hockey\n",
      "Synset('football.n.02') the inflated oblong ball used in playing American football\n",
      "Synset('golf_ball.n.01') a small hard ball used in playing golf; dimpled to reduce wind resistance\n",
      "Synset('handball.n.01') a small rubber ball used in playing the game of handball\n",
      "Synset('jack.n.05') a small ball at which players aim in lawn bowling\n",
      "Synset('lacrosse_ball.n.01') ball used in playing lacrosse\n",
      "Synset('marble.n.02') a small ball of glass that is used in various games\n",
      "Synset('medicine_ball.n.01') heavy ball used in physical training\n",
      "Synset('ninepin_ball.n.01') ball used to knock down ninepins\n",
      "Synset('ping-pong_ball.n.01') light hollow ball used in playing table tennis\n",
      "Synset('polo_ball.n.01') wooden ball that is struck with mallets in playing polo\n",
      "Synset('pool_ball.n.01') ball used in playing pool\n",
      "Synset('punching_bag.n.02') an inflated ball or bag that is suspended and punched for training in boxing\n",
      "Synset('racquetball.n.01') the ball used in playing the game of racquetball\n",
      "Synset('roulette_ball.n.01') the ball used to play roulette\n",
      "Synset('rugby_ball.n.01') inflated oval ball used in playing rugby\n",
      "Synset('soccer_ball.n.01') an inflated ball used in playing soccer\n",
      "Synset('softball.n.01') ball used in playing softball\n",
      "Synset('squash_ball.n.01') rubber ball used in playing squash\n",
      "Synset('tennis_ball.n.01') ball about the size of a fist used in playing tennis\n",
      "Synset('volleyball.n.02') an inflated ball used in playing volleyball\n",
      "Synset('wiffle.n.01') (trademark) a hollow plastic ball with cutouts\n",
      "Synset : Synset('musket_ball.n.01')\n",
      "Hypernym definitions\n",
      "Synset('shot.n.02') a solid missile discharged from a firearm\n",
      "Hyponym definitions\n",
      "Synset : Synset('ball.n.03')\n",
      "Hypernym definitions\n",
      "Synset('sphere.n.05') a solid figure bounded by a spherical surface (including the space it encloses)\n",
      "Hyponym definitions\n",
      "Synset('bolus.n.01') a small round soft mass (as of chewed food)\n",
      "Synset('crystal_ball.n.01') a glass or crystal globe used in crystal gazing by fortunetellers\n",
      "Synset('fireball.n.03') a ball of fire (such as the sun or a ball-shaped discharge of lightning)\n",
      "Synset('fireball.n.04') the luminous center of a nuclear explosion\n",
      "Synset('globule.n.01') a small globe or ball\n",
      "Synset('mothball.n.01') a small sphere of camphor or naphthalene used to keep moths away from stored clothing\n",
      "Synset('pellet.n.01') a small sphere\n",
      "Synset('spherule.n.01') a small sphere\n",
      "Synset('time-ball.n.01') a ball that slides down a staff to show a fixed time; especially at an observatory\n",
      "Synset : Synset('ball.n.04')\n",
      "Hypernym definitions\n",
      "Synset('dance.n.02') a party of people assembled for dancing\n",
      "Hyponym definitions\n",
      "Synset : Synset('testis.n.01')\n",
      "Hypernym definitions\n",
      "Synset('gonad.n.01') a gland in which gametes (sex cells) are produced\n",
      "Synset('male_reproductive_gland.n.01') the reproductive organs of a man\n",
      "Hyponym definitions\n",
      "Synset('cobblers.n.02') a man's testicles (from Cockney rhyming slang: cobbler's awl rhymes with ball)\n",
      "Synset('undescended_testis.n.01') a testis that fails to move into the scrotum as the male fetus develops\n",
      "Synset : Synset('ball.n.06')\n",
      "Hypernym definitions\n",
      "Synset('plaything.n.01') an artifact designed to be played with\n",
      "Hyponym definitions\n",
      "Synset('beach_ball.n.01') large and light ball; for play at the seaside\n",
      "Synset('snowball.n.04') snow pressed into a ball for throwing (playfully)\n",
      "Synset : Synset('ball.n.07')\n",
      "Hypernym definitions\n",
      "Hyponym definitions\n",
      "Synset : Synset('ball.n.08')\n",
      "Hypernym definitions\n",
      "Synset('agglomeration.n.01') a jumbled collection or mass\n",
      "Hyponym definitions\n",
      "Synset('clew.n.01') a ball of yarn or cord or thread\n",
      "Synset('clot.n.01') a lump of material formed from the content of a liquid\n",
      "Synset('gob.n.02') a lump of slimy stuff\n",
      "Synset : Synset('ball.n.09')\n",
      "Hypernym definitions\n",
      "Synset('dance.n.04') a party for social dancing\n",
      "Hyponym definitions\n",
      "Synset('cotillion.n.01') a ball at which young ladies are presented to society\n",
      "Synset('masked_ball.n.01') a ball at which guests wear costumes and masks\n",
      "Synset('promenade.n.01') a formal ball held for a school class toward the end of the academic year\n",
      "Synset : Synset('ball.n.10')\n",
      "Hypernym definitions\n",
      "Synset('structure.n.04') a particular complex anatomical part of a living thing\n",
      "Hyponym definitions\n",
      "Synset : Synset('ball.n.11')\n",
      "Hypernym definitions\n",
      "Synset('baseball.n.01') a ball game played with a bat and ball between two teams of nine players; teams take turns at bat trying to score runs\n",
      "Hyponym definitions\n",
      "Synset('daisy_cutter.n.02') a batted or served ball that skims along close to the ground\n",
      "Synset : Synset('ball.n.12')\n",
      "Hypernym definitions\n",
      "Synset('pitch.n.02') (baseball) the act of throwing a baseball by a pitcher to a batter\n",
      "Hyponym definitions\n"
     ]
    }
   ],
   "source": [
    "# print(len(semcor.words()))\n",
    "for i in woi:\n",
    "    for j in i:\n",
    "        w=j[0]\n",
    "        tag=j[1]\n",
    "\n",
    "        synsB=wn.synsets(w,pos=tag)\n",
    "        print(\"************************************\")\n",
    "        # print(synsB)\n",
    "\n",
    "\n",
    "        for i in wn.synsets(w,pos=tag):\n",
    "            print(\"Synset :\", i)\n",
    "            print(\"Hypernym definitions\")\n",
    "            for j in i.hypernyms():\n",
    "                print(j, j.definition())\n",
    "            print(\"Hyponym definitions\")\n",
    "            for j in i.hyponyms():\n",
    "                print(j, j.definition())"
   ]
  },
  {
   "cell_type": "code",
   "execution_count": 30,
   "metadata": {},
   "outputs": [
    {
     "name": "stdout",
     "output_type": "stream",
     "text": [
      "New sentence\n",
      "boy\n",
      "Sense of boy is Synset('male_child.n.01') with meaning a youthful male person\n",
      "ball\n",
      "Sense of ball is Synset('ball.n.01') with meaning round object that is hit or thrown or kicked in games\n"
     ]
    }
   ],
   "source": [
    "for sentence in woi:\n",
    "    print(\"New sentence\")\n",
    "    for entry in sentence:\n",
    "        target = entry[0]\n",
    "        print(target)\n",
    "        for i in puncRemoved:\n",
    "            context = nltk.word_tokenize(i)\n",
    "        context.remove(target)\n",
    "\n",
    "        sense = None\n",
    "        maxsofar = 0\n",
    "        \n",
    "        for i in wn.synsets(target,pos='n'):\n",
    "            sense_bag = []\n",
    "            for hypernym in i.hypernyms():\n",
    "                sense_bag += (nltk.word_tokenize(hypernym.definition()))\n",
    "            for hyponym in i.hyponyms():\n",
    "                sense_bag += (nltk.word_tokenize(hyponym.definition()))\n",
    "            # for meronym in i.part_meronyms():\n",
    "            #     sense_bag += (nltk.word_tokenize(meronym.definition()))\n",
    "            # for holonym in i.part_holonyms():\n",
    "            #     sense_bag += (nltk.word_tokenize(holonym.definition()))\n",
    "            list3 = set(context)&set(sense_bag) \n",
    "            list4 = sorted(list3, key = lambda k : context.index(k))\n",
    "            \n",
    "            if (len(list4) > maxsofar):\n",
    "                maxsofar = len(list4)\n",
    "                sense = i\n",
    "        print(\"Sense of\", target, \"is\", sense, \"with meaning\", sense.definition())\n",
    "            \n",
    "                "
   ]
  }
 ],
 "metadata": {
  "kernelspec": {
   "display_name": "Python 3.10.7 64-bit",
   "language": "python",
   "name": "python3"
  },
  "language_info": {
   "codemirror_mode": {
    "name": "ipython",
    "version": 3
   },
   "file_extension": ".py",
   "mimetype": "text/x-python",
   "name": "python",
   "nbconvert_exporter": "python",
   "pygments_lexer": "ipython3",
   "version": "3.10.7"
  },
  "orig_nbformat": 4,
  "vscode": {
   "interpreter": {
    "hash": "916dbcbb3f70747c44a77c7bcd40155683ae19c65e1c03b4aa3499c5328201f1"
   }
  }
 },
 "nbformat": 4,
 "nbformat_minor": 2
}
